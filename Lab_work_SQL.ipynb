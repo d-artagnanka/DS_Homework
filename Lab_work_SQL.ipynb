{
 "cells": [
  {
   "cell_type": "code",
   "execution_count": 2,
   "metadata": {},
   "outputs": [],
   "source": [
    "import sqlite3"
   ]
  },
  {
   "cell_type": "markdown",
   "metadata": {},
   "source": [
    "## Tables Info"
   ]
  },
  {
   "cell_type": "code",
   "execution_count": 11,
   "metadata": {},
   "outputs": [
    {
     "name": "stdout",
     "output_type": "stream",
     "text": [
      "('Customers',)\n",
      "('OrderItems',)\n",
      "('Orders',)\n",
      "('Products',)\n",
      "('Vendors',)\n"
     ]
    }
   ],
   "source": [
    "#all tables in db\n",
    "conn = sqlite3.connect('tysql.sqlite')\n",
    "curs = conn.cursor()\n",
    "all_tables = 'SELECT name from sqlite_master where type= \"table\"'\n",
    "\n",
    "curs.execute(all_tables)\n",
    "for el in curs.fetchall():\n",
    "    print(el)\n",
    "    \n",
    "conn.close()"
   ]
  },
  {
   "cell_type": "code",
   "execution_count": 36,
   "metadata": {},
   "outputs": [
    {
     "name": "stdout",
     "output_type": "stream",
     "text": [
      "(0, 'cust_id', 'char(10)', 1, None, 1)\n",
      "(1, 'cust_name', 'char(50)', 1, None, 0)\n",
      "(2, 'cust_address', 'char(50)', 0, None, 0)\n",
      "(3, 'cust_city', 'char(50)', 0, None, 0)\n",
      "(4, 'cust_state', 'char(5)', 0, None, 0)\n",
      "(5, 'cust_zip', 'char(10)', 0, None, 0)\n",
      "(6, 'cust_country', 'char(50)', 0, None, 0)\n",
      "(7, 'cust_contact', 'char(50)', 0, None, 0)\n",
      "(8, 'cust_email', 'char(255)', 0, None, 0)\n"
     ]
    }
   ],
   "source": [
    "#all columns and their properties in Customers\n",
    "conn = sqlite3.connect('tysql.sqlite')\n",
    "curs = conn.cursor()\n",
    "all_cols = 'PRAGMA table_info(Customers)'\n",
    "\n",
    "for row in curs.execute(all_cols):\n",
    "        print(row)\n",
    "    \n",
    "conn.close()"
   ]
  },
  {
   "cell_type": "code",
   "execution_count": 37,
   "metadata": {},
   "outputs": [
    {
     "name": "stdout",
     "output_type": "stream",
     "text": [
      "(0, 'order_num', 'int', 1, None, 1)\n",
      "(1, 'order_item', 'int', 1, None, 2)\n",
      "(2, 'prod_id', 'char(10)', 1, None, 0)\n",
      "(3, 'quantity', 'int', 1, None, 0)\n",
      "(4, 'item_price', 'decimal(8,2)', 1, None, 0)\n"
     ]
    }
   ],
   "source": [
    "#all columns and their properties in OrderItems\n",
    "conn = sqlite3.connect('tysql.sqlite')\n",
    "curs = conn.cursor()\n",
    "all_cols = 'PRAGMA table_info(OrderItems)'\n",
    "\n",
    "for row in curs.execute(all_cols):\n",
    "        print(row)\n",
    "    \n",
    "conn.close()"
   ]
  },
  {
   "cell_type": "code",
   "execution_count": 38,
   "metadata": {},
   "outputs": [
    {
     "name": "stdout",
     "output_type": "stream",
     "text": [
      "(0, 'order_num', 'int', 1, None, 1)\n",
      "(1, 'order_date', 'datetime', 1, None, 0)\n",
      "(2, 'cust_id', 'char(10)', 1, None, 0)\n"
     ]
    }
   ],
   "source": [
    "#all columns and their properties in Orders\n",
    "conn = sqlite3.connect('tysql.sqlite')\n",
    "curs = conn.cursor()\n",
    "all_cols = 'PRAGMA table_info(Orders)'\n",
    "\n",
    "for row in curs.execute(all_cols):\n",
    "        print(row)\n",
    "    \n",
    "conn.close()"
   ]
  },
  {
   "cell_type": "code",
   "execution_count": 39,
   "metadata": {},
   "outputs": [
    {
     "name": "stdout",
     "output_type": "stream",
     "text": [
      "(0, 'prod_id', 'char(10)', 1, None, 1)\n",
      "(1, 'vend_id', 'char(10)', 1, None, 0)\n",
      "(2, 'prod_name', 'char(255)', 1, None, 0)\n",
      "(3, 'prod_price', 'decimal(8,2)', 1, None, 0)\n",
      "(4, 'prod_desc', 'text', 0, None, 0)\n"
     ]
    }
   ],
   "source": [
    "#all columns and their properties in Products\n",
    "conn = sqlite3.connect('tysql.sqlite')\n",
    "curs = conn.cursor()\n",
    "all_cols = 'PRAGMA table_info(Products)'\n",
    "\n",
    "for row in curs.execute(all_cols):\n",
    "        print(row)\n",
    "    \n",
    "conn.close()"
   ]
  },
  {
   "cell_type": "code",
   "execution_count": 40,
   "metadata": {},
   "outputs": [
    {
     "name": "stdout",
     "output_type": "stream",
     "text": [
      "(0, 'vend_id', 'char(10)', 1, None, 1)\n",
      "(1, 'vend_name', 'char(50)', 1, None, 0)\n",
      "(2, 'vend_address', 'char(50)', 0, None, 0)\n",
      "(3, 'vend_city', 'char(50)', 0, None, 0)\n",
      "(4, 'vend_state', 'char(5)', 0, None, 0)\n",
      "(5, 'vend_zip', 'char(10)', 0, None, 0)\n",
      "(6, 'vend_country', 'char(50)', 0, None, 0)\n"
     ]
    }
   ],
   "source": [
    "#all columns and their properties in Vendors\n",
    "conn = sqlite3.connect('tysql.sqlite')\n",
    "curs = conn.cursor()\n",
    "all_cols = 'PRAGMA table_info(Vendors)'\n",
    "\n",
    "for row in curs.execute(all_cols):\n",
    "        print(row)\n",
    "    \n",
    "conn.close()"
   ]
  },
  {
   "cell_type": "markdown",
   "metadata": {},
   "source": [
    "**************************************************"
   ]
  },
  {
   "cell_type": "markdown",
   "metadata": {},
   "source": [
    "## Task1"
   ]
  },
  {
   "cell_type": "code",
   "execution_count": 18,
   "metadata": {},
   "outputs": [
    {
     "name": "stdout",
     "output_type": "stream",
     "text": [
      "('1000000001',)\n",
      "('1000000002',)\n",
      "('1000000003',)\n",
      "('1000000004',)\n",
      "('1000000005',)\n"
     ]
    }
   ],
   "source": [
    "# all cust_id from Customers:\n",
    "conn = sqlite3.connect('tysql.sqlite')\n",
    "curs = conn.cursor()\n",
    "sql_t11 = 'SELECT cust_id FROM Customers'\n",
    "\n",
    "for row in curs.execute(sql_t11):\n",
    "        print(row)\n",
    "conn.close()"
   ]
  },
  {
   "cell_type": "code",
   "execution_count": 19,
   "metadata": {},
   "outputs": [
    {
     "name": "stdout",
     "output_type": "stream",
     "text": [
      "('1000000001', 'Village Toys', '200 Maple Lane', 'Detroit', 'MI', '44444', 'USA', 'John Smith', 'sales@villagetoys.com')\n",
      "('1000000002', 'Kids Place', '333 South Lake Drive', 'Columbus', 'OH', '43333', 'USA', 'Michelle Green', None)\n",
      "('1000000003', 'Fun4All', '1 Sunny Place', 'Muncie', 'IN', '42222', 'USA', 'Jim Jones', 'jjones@fun4all.com')\n",
      "('1000000004', 'Fun4All', '829 Riverside Drive', 'Phoenix', 'AZ', '88888', 'USA', 'Denise L. Stephens', 'dstephens@fun4all.com')\n",
      "('1000000005', 'The Toy Store', '4545 53rd Street', 'Chicago', 'IL', '54545', 'USA', 'Kim Howard', None)\n"
     ]
    }
   ],
   "source": [
    "#Customer Table\n",
    "conn = sqlite3.connect('tysql.sqlite')\n",
    "curs = conn.cursor()\n",
    "sql_t12 = 'SELECT * FROM Customers'\n",
    "\n",
    "for row in curs.execute(sql_t12):\n",
    "        print(row)\n",
    "conn.close()"
   ]
  },
  {
   "cell_type": "code",
   "execution_count": 22,
   "metadata": {},
   "outputs": [
    {
     "name": "stdout",
     "output_type": "stream",
     "text": [
      "('Village Toys',)\n",
      "('The Toy Store',)\n",
      "('Kids Place',)\n",
      "('Fun4All',)\n",
      "('Fun4All',)\n"
     ]
    }
   ],
   "source": [
    "# Список клієнтів (cust_name) відсортованих від Z до A:\n",
    "conn = sqlite3.connect('tysql.sqlite')\n",
    "curs = conn.cursor()\n",
    "sql_t13 = 'SELECT cust_name FROM Customers ORDER BY cust_name DESC'\n",
    "\n",
    "for row in curs.execute(sql_t13):\n",
    "        print(row)\n",
    "conn.close()"
   ]
  },
  {
   "cell_type": "code",
   "execution_count": 23,
   "metadata": {},
   "outputs": [
    {
     "name": "stdout",
     "output_type": "stream",
     "text": [
      "('1000000001', 20009)\n",
      "('1000000001', 20005)\n",
      "('1000000003', 20006)\n",
      "('1000000004', 20007)\n",
      "('1000000005', 20008)\n"
     ]
    }
   ],
   "source": [
    "# Таблиця клієнтів та замовлень (cust_id, order_num) відсортованих по клієнту та даті замовлення:\n",
    "conn = sqlite3.connect('tysql.sqlite')\n",
    "curs = conn.cursor()\n",
    "sql_t14 = 'SELECT cust_id, order_num FROM Orders ORDER BY cust_id, order_date'\n",
    "\n",
    "for row in curs.execute(sql_t14):\n",
    "        print(row)\n",
    "conn.close()"
   ]
  },
  {
   "cell_type": "code",
   "execution_count": 26,
   "metadata": {},
   "outputs": [
    {
     "name": "stdout",
     "output_type": "stream",
     "text": [
      "(250, 2.49)\n",
      "(250, 2.49)\n",
      "(250, 2.49)\n",
      "(100, 5.49)\n",
      "(100, 10.99)\n",
      "(100, 2.99)\n",
      "(100, 2.99)\n",
      "(100, 2.99)\n",
      "(50, 11.49)\n",
      "(50, 4.49)\n",
      "(20, 5.99)\n",
      "(10, 8.99)\n",
      "(10, 11.99)\n",
      "(10, 3.49)\n",
      "(10, 3.49)\n",
      "(10, 3.49)\n",
      "(5, 4.99)\n",
      "(5, 11.99)\n"
     ]
    }
   ],
   "source": [
    "# Таблиця на основі Items з кількістю та вартістю товару. Відсортуйте в порядку спадання по кількості товару\n",
    "conn = sqlite3.connect('tysql.sqlite')\n",
    "curs = conn.cursor()\n",
    "sql_t15 = 'SELECT quantity, item_price FROM OrderItems ORDER BY quantity DESC'\n",
    "\n",
    "for row in curs.execute(sql_t15):\n",
    "        print(row)\n",
    "conn.close()"
   ]
  },
  {
   "cell_type": "code",
   "execution_count": 28,
   "metadata": {},
   "outputs": [
    {
     "name": "stdout",
     "output_type": "stream",
     "text": [
      "('King doll',)\n",
      "('Queen doll',)\n"
     ]
    }
   ],
   "source": [
    "# Товар з таблиці Products, ціна якого становить 9.49\n",
    "conn = sqlite3.connect('tysql.sqlite')\n",
    "curs = conn.cursor()\n",
    "sql_t16 = 'SELECT prod_name FROM Products WHERE prod_price = 9.49'\n",
    "\n",
    "for row in curs.execute(sql_t16):\n",
    "        print(row)\n",
    "conn.close()"
   ]
  },
  {
   "cell_type": "code",
   "execution_count": 30,
   "metadata": {},
   "outputs": [
    {
     "name": "stdout",
     "output_type": "stream",
     "text": [
      "('Fish bean bag toy', 3.49)\n",
      "('Bird bean bag toy', 3.49)\n",
      "('Rabbit bean bag toy', 3.49)\n",
      "('Raggedy Ann', 4.99)\n",
      "('8 inch teddy bear', 5.99)\n"
     ]
    }
   ],
   "source": [
    "# Назва товару, ціна якого в діапазоні від 3 до 6. Відсортуйте по ціні в порядку зростання\n",
    "conn = sqlite3.connect('tysql.sqlite')\n",
    "curs = conn.cursor()\n",
    "sql_t17 = 'SELECT prod_name, prod_price FROM Products WHERE prod_price BETWEEN 3 AND 6 ORDER BY prod_price'\n",
    "\n",
    "for row in curs.execute(sql_t17):\n",
    "        print(row)\n",
    "conn.close()"
   ]
  },
  {
   "cell_type": "markdown",
   "metadata": {},
   "source": [
    "## Task2"
   ]
  },
  {
   "cell_type": "code",
   "execution_count": 42,
   "metadata": {},
   "outputs": [
    {
     "name": "stdout",
     "output_type": "stream",
     "text": [
      "('BNBG01', 360)\n",
      "('BNBG02', 360)\n",
      "('BNBG03', 360)\n",
      "('BR01', 120)\n",
      "('BR02', 10)\n",
      "('BR03', 165)\n",
      "('RGAN01', 55)\n",
      "('sum: ', 1430)\n"
     ]
    }
   ],
   "source": [
    "# Кількість товару, що було продано\n",
    "conn = sqlite3.connect('tysql.sqlite')\n",
    "curs = conn.cursor()\n",
    "sql_t21 = '''SELECT prod_id, SUM(quantity) FROM OrderItems GROUP BY prod_id\n",
    "            UNION \n",
    "            SELECT \"sum: \", SUM(quantity) FROM OrderItems'''\n",
    "\n",
    "for row in curs.execute(sql_t21):\n",
    "        print(row)\n",
    "conn.close()"
   ]
  },
  {
   "cell_type": "code",
   "execution_count": 43,
   "metadata": {},
   "outputs": [
    {
     "name": "stdout",
     "output_type": "stream",
     "text": [
      "(6,)\n"
     ]
    }
   ],
   "source": [
    "# Кількість найменувань товару, ціна якого > 4\n",
    "conn = sqlite3.connect('tysql.sqlite')\n",
    "curs = conn.cursor()\n",
    "sql_t22 = 'SELECT COUNT(prod_name) FROM Products WHERE prod_price >4'\n",
    "\n",
    "for row in curs.execute(sql_t22):\n",
    "        print(row)\n",
    "conn.close()"
   ]
  },
  {
   "cell_type": "code",
   "execution_count": 46,
   "metadata": {},
   "outputs": [
    {
     "name": "stdout",
     "output_type": "stream",
     "text": [
      "('18 inch teddy bear', 11.99)\n",
      "('King doll', 9.49)\n",
      "('Queen doll', 9.49)\n"
     ]
    }
   ],
   "source": [
    "# 3 найдорожчі товари в базі\n",
    "conn = sqlite3.connect('tysql.sqlite')\n",
    "curs = conn.cursor()\n",
    "sql_t23 = 'SELECT prod_name, prod_price FROM Products ORDER BY prod_price DESC LIMIT 3'\n",
    "\n",
    "for row in curs.execute(sql_t23):\n",
    "        print(row)\n",
    "conn.close()"
   ]
  },
  {
   "cell_type": "code",
   "execution_count": 52,
   "metadata": {},
   "outputs": [
    {
     "name": "stdout",
     "output_type": "stream",
     "text": [
      "('1000000001', 2)\n",
      "('1000000003', 1)\n",
      "('1000000004', 1)\n",
      "('1000000005', 1)\n"
     ]
    }
   ],
   "source": [
    "# Кількість замовлень для кожного клієнта (використовуючи підзапити)\n",
    "conn = sqlite3.connect('tysql.sqlite')\n",
    "curs = conn.cursor()\n",
    "sql_t24 = 'SELECT cust_id AS c1, sum(1) FROM (SELECT cust_id FROM Orders) GROUP BY cust_id'\n",
    "\n",
    "for row in curs.execute(sql_t24):\n",
    "        print(row)\n",
    "conn.close()"
   ]
  },
  {
   "cell_type": "code",
   "execution_count": 53,
   "metadata": {},
   "outputs": [
    {
     "name": "stdout",
     "output_type": "stream",
     "text": [
      "('Village Toys', 20005)\n",
      "('Fun4All', 20006)\n",
      "('Fun4All', 20007)\n",
      "('The Toy Store', 20008)\n",
      "('Village Toys', 20009)\n"
     ]
    }
   ],
   "source": [
    "# Список клієнтів та їх замовлень (використовуючи JOIN)\n",
    "conn = sqlite3.connect('tysql.sqlite')\n",
    "curs = conn.cursor()\n",
    "sql_t25 = 'SELECT cust_name, order_num FROM Orders JOIN Customers ON Customers.cust_id=Orders.cust_id'\n",
    "\n",
    "for row in curs.execute(sql_t25):\n",
    "        print(row)\n",
    "conn.close()"
   ]
  },
  {
   "cell_type": "code",
   "execution_count": 54,
   "metadata": {},
   "outputs": [
    {
     "name": "stdout",
     "output_type": "stream",
     "text": [
      "('12 inch teddy bear', 8.99)\n",
      "('18 inch teddy bear', 11.99)\n",
      "('8 inch teddy bear', 5.99)\n",
      "('Bird bean bag toy', 3.49)\n",
      "('Fish bean bag toy', 3.49)\n",
      "('King doll', 9.49)\n",
      "('Queen doll', 9.49)\n",
      "('Rabbit bean bag toy', 3.49)\n",
      "('Raggedy Ann', 4.99)\n"
     ]
    }
   ],
   "source": [
    "# Список товарів, ціна яких < 5; список товарів, ціна яких >=5; використати UNION для об'єднання\n",
    "conn = sqlite3.connect('tysql.sqlite')\n",
    "curs = conn.cursor()\n",
    "sql_t26 = '''SELECT prod_name, prod_price FROM Products WHERE prod_price < 5\n",
    "             UNION\n",
    "             SELECT prod_name, prod_price FROM Products WHERE prod_price >= 5 '''\n",
    "\n",
    "for row in curs.execute(sql_t26):\n",
    "        print(row)\n",
    "conn.close()"
   ]
  }
 ],
 "metadata": {
  "kernelspec": {
   "display_name": "Python 3",
   "language": "python",
   "name": "python3"
  },
  "language_info": {
   "codemirror_mode": {
    "name": "ipython",
    "version": 3
   },
   "file_extension": ".py",
   "mimetype": "text/x-python",
   "name": "python",
   "nbconvert_exporter": "python",
   "pygments_lexer": "ipython3",
   "version": "3.8.3"
  }
 },
 "nbformat": 4,
 "nbformat_minor": 4
}
