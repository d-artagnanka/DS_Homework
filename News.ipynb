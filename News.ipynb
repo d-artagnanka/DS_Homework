{
 "cells": [
  {
   "cell_type": "code",
   "execution_count": 39,
   "metadata": {},
   "outputs": [],
   "source": [
    "import requests\n",
    "from bs4 import BeautifulSoup\n",
    "import json"
   ]
  },
  {
   "cell_type": "code",
   "execution_count": 40,
   "metadata": {},
   "outputs": [],
   "source": [
    "r = requests.get('https://www.unian.ua/science')\n",
    "soup = BeautifulSoup(r.text, 'html.parser')"
   ]
  },
  {
   "cell_type": "code",
   "execution_count": 41,
   "metadata": {},
   "outputs": [
    {
     "name": "stdout",
     "output_type": "stream",
     "text": [
      "[{'date': '18:39, 15 грудня 2020', 'title': 'Ubisoft роздає безкоштовно космічну аркаду Starlink: Battle for Atlas', 'link': 'https://www.unian.ua/games/ubisoft-rozdaye-kosmichnu-arkadu-starlink-battle-for-atlas-igri-11256692.html'}, {'date': '18:28, 15 грудня 2020', 'title': 'Nature: Вчені виявили комбінацію ліків, яка допомагає тяжко хворим на COVID-19', 'link': 'https://www.unian.ua/health/worldnews/koronavirus-15-grudnya-kombinaciya-z-dvoh-preparativ-prishvidshuye-oduzhannya-tyazhko-hvorih-na-covid-19-ostanni-novini-11256683.html'}, {'date': '16:12, 15 грудня 2020', 'title': 'CD Projekt провела екстрену нараду з інвесторами через проблеми з Cyberpunk 2077', 'link': 'https://www.unian.ua/games/avtori-cyberpunk-2077-proveli-ekstrenu-naradu-z-investorami-igri-11256392.html'}, {'date': '12:32, 15 грудня 2020', 'title': 'У Євросоюзі підготували жорсткі правила для Google, Facebook та Apple', 'link': 'https://www.unian.ua/science/yes-bude-borotisya-z-monopolnimi-diyami-google-facebook-apple-proekt-novini-11255867.html'}, {'date': '10:16, 15 грудня 2020', 'title': 'Дані з кандидатом на вакцину від COVID-19 \"хакнули\"', 'link': 'https://www.unian.ua/science/vakcina-vid-koronavirusu-hakeri-vikrali-dani-moderna-novini-11255588.html'}, {'date': '09:33, 15 грудня 2020', 'title': 'Як пройшло єдине у 2020 році повне сонячне затемнення (фоторепортаж)', 'link': 'https://www.unian.ua/science/sonyachne-zatemnennya-gruden-2020-yak-proyshlo-povne-zatemnennya-soncya-fotoreportazh-novini-11255519.html'}, {'date': '04:26, 15 грудня 2020', 'title': 'У кіберполіції попередили українців про новий вид шахрайства', 'link': 'https://www.unian.ua/science/shahraystvo-v-ukrajini-kiberpoliciya-zvernulasya-do-gromadyan-z-poperedzhennyam-novini-11255357.html'}, {'date': '03:01, 15 грудня 2020', 'title': 'Google назвав причину глобального збою у роботі сервісів', 'link': 'https://www.unian.ua/science/google-youtube-gmail-nazvano-prichinu-globalnogo-zboyu-u-roboti-servisiv-novini-11255441.html'}, {'date': '18:52, 14 грудня 2020', 'title': 'Nature: Імунна система дітей швидко вбиває COVID-19 через \"недосвідченість\"', 'link': 'https://www.unian.ua/health/worldnews/koronavirus-14-grudnya-vcheni-z-yasuvali-chomu-imunitet-ditey-shvidshe-vbivaye-covid-19-ostanni-novini-11255255.html'}, {'date': '18:52, 14 грудня 2020', 'title': 'Україна допомогла Ілону Маску доставити супутник на базу NASA (фото)', 'link': 'https://www.unian.ua/economics/transport/ukrajinskiy-ruslan-dopomig-ilonu-masku-an-124-dostaviv-na-bazu-nasa-suputnik-dlya-spacex-novini-ukrajina-11255240.html'}]\n"
     ]
    }
   ],
   "source": [
    "news = []\n",
    "\n",
    "i = 0\n",
    "for n in soup.find_all('div', class_ = 'list-thumbs__item'):\n",
    "    \n",
    "    if i < 10:\n",
    "        date = n.find('div', class_ = 'list-thumbs__time time').text\n",
    "        title = n.find('a', class_ = 'list-thumbs__title').text\n",
    "        link = n.find('a', class_ = 'list-thumbs__title').get('href')\n",
    "    else:\n",
    "        break\n",
    "    i += 1\n",
    "    news.append({'date': date, 'title': ' '.join(title.split()), 'link': link})\n",
    "\n",
    "print(news)"
   ]
  },
  {
   "cell_type": "code",
   "execution_count": 45,
   "metadata": {},
   "outputs": [],
   "source": [
    "with open('news.json', 'w') as f:\n",
    "    f.write(json.dumps(news))"
   ]
  },
  {
   "cell_type": "code",
   "execution_count": null,
   "metadata": {},
   "outputs": [],
   "source": []
  }
 ],
 "metadata": {
  "kernelspec": {
   "display_name": "Python 3",
   "language": "python",
   "name": "python3"
  },
  "language_info": {
   "codemirror_mode": {
    "name": "ipython",
    "version": 3
   },
   "file_extension": ".py",
   "mimetype": "text/x-python",
   "name": "python",
   "nbconvert_exporter": "python",
   "pygments_lexer": "ipython3",
   "version": "3.8.3"
  }
 },
 "nbformat": 4,
 "nbformat_minor": 4
}
