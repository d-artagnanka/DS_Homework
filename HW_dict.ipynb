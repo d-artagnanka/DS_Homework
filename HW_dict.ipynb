{
 "cells": [
  {
   "cell_type": "code",
   "execution_count": 7,
   "metadata": {},
   "outputs": [
    {
     "name": "stdout",
     "output_type": "stream",
     "text": [
      "Who travels?\n",
      "ihor\n",
      "Who travels?\n",
      "dima\n",
      "Who travels?\n",
      "andrew\n",
      "Who travels?\n",
      "dima\n",
      "Who travels?\n",
      "ihor\n",
      "Who travels?\n",
      "ihor\n",
      "Who travels?\n",
      "end\n",
      "ihor 3\n",
      "dima 2\n",
      "andrew 1\n"
     ]
    }
   ],
   "source": [
    "def tourists(names, name):\n",
    "    if name in names:\n",
    "        names[name]=names[name] + 1\n",
    "    else:\n",
    "        names[name]=1\n",
    "\n",
    "\n",
    "dict_tourists={}\n",
    "\n",
    "while True:\n",
    "    print('Who travels?')\n",
    "    name = input()\n",
    "    if name == 'end':\n",
    "        break\n",
    "    tourists(dict_tourists, name)\n",
    "#for key in dict_tourists:\n",
    "#    print(key, dict_tourists[key])"
   ]
  },
  {
   "cell_type": "code",
   "execution_count": 8,
   "metadata": {},
   "outputs": [
    {
     "name": "stdout",
     "output_type": "stream",
     "text": [
      "ihor 3\n",
      "dima 2\n",
      "andrew 1\n"
     ]
    }
   ],
   "source": [
    "for key in dict_tourists:\n",
    "    print(key, dict_tourists[key])"
   ]
  },
  {
   "cell_type": "code",
   "execution_count": null,
   "metadata": {},
   "outputs": [],
   "source": []
  }
 ],
 "metadata": {
  "kernelspec": {
   "display_name": "Python 3",
   "language": "python",
   "name": "python3"
  },
  "language_info": {
   "codemirror_mode": {
    "name": "ipython",
    "version": 3
   },
   "file_extension": ".py",
   "mimetype": "text/x-python",
   "name": "python",
   "nbconvert_exporter": "python",
   "pygments_lexer": "ipython3",
   "version": "3.8.3"
  }
 },
 "nbformat": 4,
 "nbformat_minor": 4
}
